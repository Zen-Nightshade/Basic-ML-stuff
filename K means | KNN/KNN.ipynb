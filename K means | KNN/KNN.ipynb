{
 "cells": [
  {
   "cell_type": "code",
   "execution_count": 1,
   "id": "d893cfe1-cf52-4009-80b1-af234945b08b",
   "metadata": {},
   "outputs": [],
   "source": [
    "import numpy as np"
   ]
  },
  {
   "cell_type": "markdown",
   "id": "d989d9fd-6b3f-43be-8520-54a81715c50e",
   "metadata": {},
   "source": [
    "# Importing the data"
   ]
  },
  {
   "cell_type": "code",
   "execution_count": 2,
   "id": "b9fd67a8-ee88-4b9b-b6cc-f0fe7249c6b2",
   "metadata": {},
   "outputs": [
    {
     "name": "stdout",
     "output_type": "stream",
     "text": [
      "[[150, 7.0, 1, 'Apple'], [120, 6.5, 0, 'Banana'], [180, 7.5, 2, 'Orange'], [155, 7.2, 1, 'Apple'], [110, 6.0, 0, 'Banana'], [190, 7.8, 2, 'Orange'], [145, 7.1, 1, 'Apple'], [115, 6.3, 0, 'Banana']]\n"
     ]
    }
   ],
   "source": [
    "data = [\n",
    "    [150, 7.0, 1, 'Apple'],\n",
    "    [120, 6.5, 0, 'Banana'],\n",
    "    [180, 7.5, 2, 'Orange'],\n",
    "    [155, 7.2, 1, 'Apple'],\n",
    "    [110, 6.0, 0, 'Banana'],\n",
    "    [190, 7.8, 2, 'Orange'],\n",
    "    [145, 7.1, 1, 'Apple'],\n",
    "    [115, 6.3, 0, 'Banana']\n",
    "]\n",
    "print(data)"
   ]
  },
  {
   "cell_type": "markdown",
   "id": "7a6d8e8b-490e-43bb-81a6-89c543b5f3bd",
   "metadata": {},
   "source": [
    "# Formating the data"
   ]
  },
  {
   "cell_type": "code",
   "execution_count": 3,
   "id": "dd628c92-b261-4052-be45-f01df07053ff",
   "metadata": {},
   "outputs": [
    {
     "name": "stdout",
     "output_type": "stream",
     "text": [
      "[[150.    7.    1. ]\n",
      " [120.    6.5   0. ]\n",
      " [180.    7.5   2. ]\n",
      " [155.    7.2   1. ]\n",
      " [110.    6.    0. ]\n",
      " [190.    7.8   2. ]\n",
      " [145.    7.1   1. ]\n",
      " [115.    6.3   0. ]]\n",
      "[0 1 2 0 1 2 0 1]\n"
     ]
    }
   ],
   "source": [
    "X= []\n",
    "Y= []\n",
    "\n",
    "for data_point in data:\n",
    "    if data_point[3] == 'Apple':\n",
    "        X.append([data_point[0], data_point[1], data_point[2]])\n",
    "        Y.append(0)\n",
    "        \n",
    "    if data_point[3] == 'Banana':\n",
    "        X.append([data_point[0], data_point[1], data_point[2]])\n",
    "        Y.append(1)\n",
    "        \n",
    "    if data_point[3] == 'Orange':\n",
    "        X.append([data_point[0], data_point[1], data_point[2]])\n",
    "        Y.append(2)\n",
    "X = np.array(X)\n",
    "Y = np.array(Y)\n",
    "print(X)\n",
    "print(Y)"
   ]
  },
  {
   "cell_type": "markdown",
   "id": "d6e526b2-a3fe-42c0-bd1c-5f5fdaf83bbe",
   "metadata": {},
   "source": [
    "# Normalizing"
   ]
  },
  {
   "cell_type": "code",
   "execution_count": 4,
   "id": "6dbe4748-af18-44cc-b015-b6396f06e3e8",
   "metadata": {},
   "outputs": [],
   "source": [
    "def z_Normalize_data(X, mean, std):\n",
    "    for i in range(len(X[0])):\n",
    "        for j in range(len(X)):\n",
    "            X[j][i] = (X[j][i] - mean[i])/std[i]\n",
    "\n",
    "def z_Normalize(X):\n",
    "    data_mean = []\n",
    "    data_std = []\n",
    "    n = len(X[0])\n",
    "    for i in range(n):\n",
    "        sum1 = 0\n",
    "        sum2 = 0\n",
    "        for j in range(len(X)):\n",
    "            sum1 += X[j][i]\n",
    "            sum2 += X[j][i]**2\n",
    "    \n",
    "        mean = sum1/(len(X))\n",
    "        variance = sum2/(len(X)) - mean**2\n",
    "        std = variance**(0.5)\n",
    "    \n",
    "        for j in range(len(X)):\n",
    "            X[j][i] = (X[j][i] - mean)/std\n",
    "            \n",
    "        data_mean.append(mean)\n",
    "        data_std.append(std)\n",
    "    return data_mean, data_std\n",
    "\n",
    "def MM_Normalize_data(X, Min, Max):\n",
    "    n = len(X[0])\n",
    "    for i in range(n):\n",
    "        for j in range(len(X)):\n",
    "            X[j][i] = (X[j][i] - Min[i])/(Max[i] - Min[i])\n",
    "\n",
    "def MM_Normalize(X):\n",
    "    Min = []\n",
    "    Max = []\n",
    "    n = len(X[0])\n",
    "    for i in range(n):\n",
    "        Min.append(min([x[i] for x in X]))\n",
    "        Max.append(max([x[i] for x in X]))\n",
    "        \n",
    "        for j in range(len(X)):\n",
    "            X[j][i] = (X[j][i] - Min[-1])/(Max[-1] - Min[-1])\n",
    "    return Min, Max"
   ]
  },
  {
   "cell_type": "code",
   "execution_count": 5,
   "id": "92f064ea-74c5-4a29-ad66-69a32d0e50b6",
   "metadata": {},
   "outputs": [
    {
     "name": "stdout",
     "output_type": "stream",
     "text": [
      "[np.float64(145.625), np.float64(6.925), np.float64(0.875)]\n",
      "[np.float64(27.66286997041341), np.float64(0.573912014162455), np.float64(0.7806247497997998)]\n",
      "[[ 0.15815423  0.13068205  0.16012815]\n",
      " [-0.92633194 -0.74053163 -1.12089708]\n",
      " [ 1.24264041  1.00189574  1.44115338]\n",
      " [ 0.33890193  0.47916753  0.16012815]\n",
      " [-1.28782733 -1.61174531 -1.12089708]\n",
      " [ 1.6041358   1.52462395  1.44115338]\n",
      " [-0.02259346  0.30492479  0.16012815]\n",
      " [-1.10707964 -1.0890171  -1.12089708]]\n"
     ]
    }
   ],
   "source": [
    "mean, std = z_Normalize(X)\n",
    "print(mean, std, sep='\\n')\n",
    "\n",
    "# Min, Max = MM_Normalize(X)\n",
    "# print(Min, Max, sep='\\n')\n",
    "\n",
    "print(X)"
   ]
  },
  {
   "cell_type": "markdown",
   "id": "a3c08aec-312d-4185-95de-b5c925f47c56",
   "metadata": {},
   "source": [
    "# Distance Metric"
   ]
  },
  {
   "cell_type": "code",
   "execution_count": 6,
   "id": "02b4d2a4-bac6-4896-9a8b-549172faddc2",
   "metadata": {},
   "outputs": [],
   "source": [
    "def Minkowski_distance( p1, p2):\n",
    "    if len(p1) != len(p2) or len(p1) == 0:\n",
    "        return -1\n",
    "    n= len(p1)\n",
    "    sum_n=0\n",
    "\n",
    "    for x,y in zip(p1,p2):\n",
    "        sum_n += abs(x-y)**n\n",
    "\n",
    "    distance = sum_n**(1/n)\n",
    "    return distance\n",
    "\n",
    "def Manhattan_distance( p1, p2):\n",
    "    if len(p1) != len(p2) or len(p1) == 0:\n",
    "        return -1\n",
    "        \n",
    "    sum_n=0\n",
    "    for x,y in zip(p1,p2):\n",
    "        sum_n += abs(x-y)\n",
    "\n",
    "    distance = sum_n\n",
    "    return distance\n",
    "\n",
    "def Euclidean_distance( p1, p2):\n",
    "    if len(p1) != len(p2) or len(p1) == 0:\n",
    "        return -1\n",
    "    n= 2\n",
    "    sum_n=0\n",
    "\n",
    "    for x,y in zip(p1,p2):\n",
    "        sum_n += abs(x-y)**n\n",
    "\n",
    "    distance = sum_n**(1/n)\n",
    "    return distance\n",
    "\n",
    "def distance(index, p1, p2):\n",
    "    match index:\n",
    "        case 0:\n",
    "            return Manhattan_distance(p1,p2)\n",
    "        case 1:\n",
    "            return Euclidean_distance(p1,p2)\n",
    "        case 2:\n",
    "            return Minkowski_distance(p1,p2)\n"
   ]
  },
  {
   "cell_type": "markdown",
   "id": "9c9b2368-f815-4856-9384-d884ac13e268",
   "metadata": {},
   "source": [
    "# KNN Classifier"
   ]
  },
  {
   "cell_type": "code",
   "execution_count": 7,
   "id": "e72a0d82-835b-4682-89e8-60729edf3c8a",
   "metadata": {},
   "outputs": [],
   "source": [
    "class KNN:\n",
    "    def __init__(self, k=3):\n",
    "        self.k = k\n",
    "        self.X = None\n",
    "        self.Y = None\n",
    "\n",
    "    def fit(self, X, Y):\n",
    "        self.X = X\n",
    "        self.Y = Y\n",
    "        \n",
    "    def predict_one(self, x):\n",
    "        X1 = self.X\n",
    "        Y1 = self.Y\n",
    "        i=1\n",
    "        # Insertion sort on the array w.r.t distance from given point (x)\n",
    "        for i in range(len(self.X)-1):\n",
    "            j=i+1\n",
    "            while j>0:\n",
    "                if distance(1, x, X1[j-1]) > distance(1, x, X1[j]):\n",
    "                    X1[[j-1, j]] = X1[[j, j-1]]\n",
    "                    Y1[[j-1, j]] = Y1[[j, j-1]]\n",
    "                j -= 1\n",
    "        # class counts of each class present\n",
    "        n = len(set(Y1))\n",
    "        class_count = [0 for _ in range(n)]\n",
    "        for i in range(self.k):\n",
    "            y = Y1[i]\n",
    "            class_count[y] += 1\n",
    "            \n",
    "        max_value = 0\n",
    "        max_index = -1\n",
    "\n",
    "        # finding the class that has majority of votes\n",
    "        for index in range(len(class_count)):\n",
    "            if max_value < class_count[index]:\n",
    "                max_value = class_count[index]\n",
    "                max_index = index\n",
    "        return max_index\n",
    "        \n",
    "    def predict (self, X_test):\n",
    "        return list(map(self.predict_one, X_test))"
   ]
  },
  {
   "cell_type": "markdown",
   "id": "01f71f4a-6a89-42ec-b2af-c14e50e1e736",
   "metadata": {},
   "source": [
    "## Testing KNN"
   ]
  },
  {
   "cell_type": "code",
   "execution_count": 8,
   "id": "3f65bf65-dff9-4a99-895b-842c314c64af",
   "metadata": {},
   "outputs": [
    {
     "name": "stdout",
     "output_type": "stream",
     "text": [
      "[1, 0, 2]\n"
     ]
    }
   ],
   "source": [
    "KNN_Classifier = KNN()\n",
    "KNN_Classifier.fit(X,Y)\n",
    "\n",
    "test_data = np.array([\n",
    " [118, 6.2, 0], # Expected: Banana\n",
    " [160, 7.3, 1], # Expected: Apple\n",
    " [185, 7.7, 2] # Expected: Orange\n",
    "])\n",
    "\n",
    "z_Normalize_data(test_data, mean, std)\n",
    "# MM_Normalize_data(test_data, Min, Max)\n",
    "\n",
    "output = KNN_Classifier.predict(test_data)\n",
    "print(output)"
   ]
  },
  {
   "cell_type": "markdown",
   "id": "e3e095a8-294e-470a-81dd-e5722dd0b3ed",
   "metadata": {},
   "source": [
    "## Accuracy Calculation"
   ]
  },
  {
   "cell_type": "code",
   "execution_count": 9,
   "id": "36a96243-cf84-4f42-89cd-cca078edd6e3",
   "metadata": {},
   "outputs": [],
   "source": [
    "def accuracy(test_data, true_labels):\n",
    "    # z_Normalize_data(test_data, mean, std)\n",
    "    # MM_Normalize_data(test_data, Min, Max)\n",
    "    \n",
    "    output = KNN_Classifier.predict(test_data)\n",
    "\n",
    "    n= len(test_data)\n",
    "    positive = 0\n",
    "\n",
    "    for i in range(len(output)):\n",
    "        if output[i] == true_labels[i]:\n",
    "            positive += 1\n",
    "    return (positive/n)*100"
   ]
  },
  {
   "cell_type": "code",
   "execution_count": 10,
   "id": "ecd631c3-c966-4378-835c-e0f867ef0eac",
   "metadata": {},
   "outputs": [
    {
     "name": "stdout",
     "output_type": "stream",
     "text": [
      "100.0\n"
     ]
    }
   ],
   "source": [
    "print(accuracy(test_data, [1,0,2]))"
   ]
  },
  {
   "cell_type": "markdown",
   "id": "8861419a-4b09-43f7-a2e7-405264c2cbd2",
   "metadata": {},
   "source": [
    "# Weighted KNN"
   ]
  },
  {
   "cell_type": "code",
   "execution_count": 11,
   "id": "6f69d0c0-ba04-4d0a-b5af-2b732f0aa44d",
   "metadata": {},
   "outputs": [],
   "source": [
    "class Weighted_KNN:\n",
    "    def __init__(self, k=3):\n",
    "        self.k = k\n",
    "        self.X = None\n",
    "        self.Y = None\n",
    "\n",
    "    def fit(self, X, Y):\n",
    "        self.X = X\n",
    "        self.Y = Y\n",
    "        \n",
    "    def predict_one(self, x):\n",
    "        X1 = self.X\n",
    "        Y1 = self.Y\n",
    "        i=1\n",
    "        # Assign weights to each of the points\n",
    "        weight = np.zeros(len(X1))\n",
    "        for point in range(len(X1)):\n",
    "            weight[point] = 1/(1+distance(1, x, X1[point]))\n",
    "                               \n",
    "        # Insertion sort on the array w.r.t distance from given point (x)\n",
    "        for i in range(len(self.X)-1):\n",
    "            j=i+1\n",
    "            while j>0:\n",
    "                if distance(1, x, X1[j-1]) > distance(1, x, X1[j]):\n",
    "                    X1[[j-1, j]] = X1[[j, j-1]]\n",
    "                    Y1[[j-1, j]] = Y1[[j, j-1]]\n",
    "\n",
    "                    weight[[j-1, j]]= weight[[j,j-1]]\n",
    "                j -= 1\n",
    "                \n",
    "        # class counts of each class present\n",
    "        n = len(set(Y1))\n",
    "        class_count = [0 for _ in range(n)]\n",
    "        for i in range(self.k):\n",
    "            y = Y1[i]\n",
    "            class_count[y] += weight[i]\n",
    "            \n",
    "        max_value = 0\n",
    "        max_index = -1\n",
    "\n",
    "        # finding the class that has majority of votes\n",
    "        for index in range(len(class_count)):\n",
    "            if max_value < class_count[index]:\n",
    "                max_value = class_count[index]\n",
    "                max_index = index\n",
    "        return max_index\n",
    "        \n",
    "    def predict (self, X_test):\n",
    "        return list(map(self.predict_one, X_test))"
   ]
  },
  {
   "cell_type": "markdown",
   "id": "bab6fe32-d371-4c21-b11d-e76fd923640b",
   "metadata": {},
   "source": [
    "## Testing Weighted KNN"
   ]
  },
  {
   "cell_type": "code",
   "execution_count": 12,
   "id": "13aa1cbb-1f76-4409-98cd-47a53ee9e87e",
   "metadata": {},
   "outputs": [
    {
     "name": "stdout",
     "output_type": "stream",
     "text": [
      "[1, 0, 2]\n"
     ]
    }
   ],
   "source": [
    "Weighted_KNN_Classifier = Weighted_KNN()\n",
    "Weighted_KNN_Classifier.fit(X,Y)\n",
    "\n",
    "# z_Normalize_data(test_data, mean, std)\n",
    "# MM_Normalize_data(test_data, Min, Max)\n",
    "\n",
    "output = Weighted_KNN_Classifier.predict(test_data)\n",
    "print(output)"
   ]
  },
  {
   "cell_type": "code",
   "execution_count": null,
   "id": "b473227a-6e2e-405e-b594-5e0d49ad5d5a",
   "metadata": {},
   "outputs": [],
   "source": []
  }
 ],
 "metadata": {
  "kernelspec": {
   "display_name": "Python 3 (ipykernel)",
   "language": "python",
   "name": "python3"
  },
  "language_info": {
   "codemirror_mode": {
    "name": "ipython",
    "version": 3
   },
   "file_extension": ".py",
   "mimetype": "text/x-python",
   "name": "python",
   "nbconvert_exporter": "python",
   "pygments_lexer": "ipython3",
   "version": "3.12.5"
  }
 },
 "nbformat": 4,
 "nbformat_minor": 5
}
