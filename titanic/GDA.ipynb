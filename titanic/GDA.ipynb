{
 "cells": [
  {
   "cell_type": "code",
   "execution_count": 1,
   "id": "b8c4b75e-c87a-40a7-81cb-dcd0a1835d63",
   "metadata": {},
   "outputs": [],
   "source": [
    "import csv\n",
    "import matplotlib.pyplot as plt\n",
    "import numpy as np\n",
    "import pandas as pd\n",
    "import random"
   ]
  },
  {
   "cell_type": "code",
   "execution_count": 2,
   "id": "c1347f2a-a0fe-4c70-a495-f138bc0e4a2e",
   "metadata": {},
   "outputs": [],
   "source": [
    "training_data=[]\n",
    "count = 0\n",
    "y=[]\n",
    "x=[]\n",
    "with open(\"processed_train_data.csv\", \"r\") as file:\n",
    "    content = csv.reader(file)\n",
    "\n",
    "    next(content)\n",
    "    for line in content:\n",
    "        y.append(int(line[1]))#survived\n",
    "        x1 = int(line[2])     #Pclass\n",
    "        x2 = int(line[3])     #Sex\n",
    "        x3 = float(line[4])   #Age---\n",
    "        x4 = int(line[5])     #Sibsp\n",
    "        x5 = int(line[6])     #Parch\n",
    "        x6 = int(line[7])     #Ticket---\n",
    "        x7 = float(line[8])   #Fare---\n",
    "        x8 = int(line[9])     #Embarked\n",
    "        # print(x1,x2,x3,x4,x5,x6,x7,x8)\n",
    "        x.append(np.array([x1,x2,x3,x4,x5,x6,x7,x8]))\n",
    "        \n",
    "    # print(x)"
   ]
  },
  {
   "cell_type": "code",
   "execution_count": 3,
   "id": "4344b5d3-c15a-46e2-afd3-e940e3675d6b",
   "metadata": {},
   "outputs": [
    {
     "name": "stdout",
     "output_type": "stream",
     "text": [
      "[2.95497302e+01 2.98403925e+05 3.22042080e+01] [1.37640977e+01 6.55772060e+05 4.96655344e+01]\n"
     ]
    }
   ],
   "source": [
    "mean = np.zeros(3)\n",
    "std = np. zeros(3)\n",
    "\n",
    "def Normalize (x,n=0):\n",
    "    sum1 = 0\n",
    "    sum2 = 0\n",
    "    for i in range(len(x)):\n",
    "        sum1 += x[i][n]\n",
    "        sum2 += x[i][n]**2\n",
    "\n",
    "    mean = sum1/(len(x))\n",
    "    variance = sum2/(len(x)) - mean**2\n",
    "    std = variance**(0.5)\n",
    "\n",
    "    for i in range(len(x)):\n",
    "        x[i][n] = (x[i][n] - mean)/std\n",
    "    return mean, std\n",
    "j=0\n",
    "for i in [2,5,6]:\n",
    "    mean[j], std[j] = Normalize(x, i)\n",
    "    j+=1\n",
    "    \n",
    "# for line in x:\n",
    "#     print(line.tolist())\n",
    "print(mean, std)"
   ]
  },
  {
   "cell_type": "code",
   "execution_count": 4,
   "id": "c4ab5ac2-2a6d-4311-9932-ed019bcec860",
   "metadata": {},
   "outputs": [
    {
     "name": "stdout",
     "output_type": "stream",
     "text": [
      "0.3838383838383838\n",
      "[ 2.53187614  0.85245902  0.06966477  0.55373406  0.32969035  0.07593627\n",
      " -0.20308492  1.64116576]\n",
      "[ 1.9502924   0.31871345 -0.11183029  0.47368421  0.46491228 -0.1218977\n",
      "  0.32600474  1.35087719]\n",
      "[[ 0.61823472 -0.02076308 -0.35843405  0.065502    0.03101451  0.21171198\n",
      "  -0.38638755  0.076032  ]\n",
      " [-0.02076308  0.16084109  0.04317353 -0.07045917 -0.07740799  0.01196364\n",
      "  -0.02031511  0.00862942]\n",
      " [-0.35843405  0.04317353  0.99220937 -0.36804921 -0.16906384 -0.10398777\n",
      "   0.11610478 -0.0439185 ]\n",
      " [ 0.065502   -0.07045917 -0.36804921  1.21316274  0.37088479  0.04688563\n",
      "   0.1859722   0.05751235]\n",
      " [ 0.03101451 -0.07740799 -0.16906384  0.37088479  0.64467452 -0.02071443\n",
      "   0.1572711   0.03721608]\n",
      " [ 0.21171198  0.01196364 -0.10398777  0.04688563 -0.02071443  0.99074354\n",
      "  -0.13208497  0.14151017]\n",
      " [-0.38638755 -0.02031511  0.11610478  0.1859722   0.1572711  -0.13208497\n",
      "   0.93379335 -0.14792199]\n",
      " [ 0.076032    0.00862942 -0.0439185   0.05751235  0.03721608  0.14151017\n",
      "  -0.14792199  0.61975801]]\n"
     ]
    }
   ],
   "source": [
    "phi = 0\n",
    "mu_0  = np.zeros(len(x[0]))\n",
    "mu_1 = np.zeros(len(x[0]))\n",
    "sigma = np.zeros((len(x[0]), len(x[0])))\n",
    "\n",
    "for z in y:\n",
    "    phi += z\n",
    "phi /= len(y)\n",
    "\n",
    "count =0\n",
    "for a, b in zip(y,x):\n",
    "    if a == 0:\n",
    "        mu_0 += b\n",
    "        count += 1\n",
    "mu_0 /= count\n",
    "\n",
    "count = 0\n",
    "for a, b in zip(y,x):\n",
    "    if a == 1:\n",
    "        mu_1 += b\n",
    "        count += 1\n",
    "mu_1 /= count\n",
    "print(phi)\n",
    "print(mu_0)\n",
    "print(mu_1)\n",
    "\n",
    "for a,b in zip(y,x) :\n",
    "    if a == 0:\n",
    "        beta = b - mu_0\n",
    "        sigma +=  np. outer(beta, beta)\n",
    "        \n",
    "    if a == 1:\n",
    "        beta = b - mu_1\n",
    "        sigma +=  np. outer(beta, beta)\n",
    "sigma /= len(y)\n",
    "\n",
    "print(sigma)\n"
   ]
  },
  {
   "cell_type": "code",
   "execution_count": 5,
   "id": "57d6cde0-8de9-4c02-a759-7e0ccd8d8eaf",
   "metadata": {},
   "outputs": [
    {
     "name": "stdout",
     "output_type": "stream",
     "text": [
      "0.013389192416330797\n",
      "[[ 2.95234425  0.23524785  0.86246627  0.01594651 -0.18146532 -0.40998981\n",
      "   1.09854806  0.06087696]\n",
      " [ 0.23524785  6.67892037 -0.05958534  0.15020856  0.67652234 -0.10071431\n",
      "   0.06960997 -0.14103226]\n",
      " [ 0.86246627 -0.05958534  1.45684593  0.34675566  0.11438648 -0.03204232\n",
      "   0.07927652 -0.0145493 ]\n",
      " [ 0.01594651  0.15020856  0.34675566  1.12188431 -0.48570188 -0.04518829\n",
      "  -0.19565257 -0.09079781]\n",
      " [-0.18146532  0.67652234  0.11438648 -0.48570188  2.04399143  0.08603083\n",
      "  -0.33469495 -0.15624744]\n",
      " [-0.40998981 -0.10071431 -0.03204232 -0.04518829  0.08603083  1.12358027\n",
      "  -0.04923876 -0.21984415]\n",
      " [ 1.09854806  0.06960997  0.07927652 -0.19565257 -0.33469495 -0.04923876\n",
      "   1.65530246  0.31445837]\n",
      " [ 0.06087696 -0.14103226 -0.0145493  -0.09079781 -0.15624744 -0.21984415\n",
      "   0.31445837  1.750057  ]]\n"
     ]
    }
   ],
   "source": [
    "det_sigma = abs(np.linalg.det(sigma))\n",
    "print(det_sigma)\n",
    "sigma_inv = np.linalg.inv(sigma)\n",
    "print(sigma_inv)"
   ]
  },
  {
   "cell_type": "code",
   "execution_count": 6,
   "id": "62248fba-c85a-4a46-ae40-b095f1e6071e",
   "metadata": {},
   "outputs": [],
   "source": [
    "def prediction (x):\n",
    "    factor = (x- mu_0).T @ sigma_inv\n",
    "    factor = factor @ (x - mu_0)\n",
    "    factor /= 2\n",
    "    p_0 = np.exp(-np.clip(factor, -500, 500))\n",
    "    p_0 /= ((2*np.pi)**(len(mu_0)/2) * det_sigma**(0.5))\n",
    "\n",
    "    factor = (x- mu_1).T @ sigma_inv\n",
    "    factor = factor @ (x - mu_1)\n",
    "    factor /= 2\n",
    "    p_1 = np.exp(-np.clip(factor, -500, 500))\n",
    "    p_1 /= ((2*np.pi)**(len(mu_1)/2) * det_sigma**(0.5))\n",
    "\n",
    "    if phi * p_1 > (1-phi)* p_0:\n",
    "        return 1\n",
    "    else:\n",
    "        return 0"
   ]
  },
  {
   "cell_type": "code",
   "execution_count": 7,
   "id": "c85664f2-ac58-4c1e-a054-ac5b2f9e364a",
   "metadata": {},
   "outputs": [
    {
     "name": "stdout",
     "output_type": "stream",
     "text": [
      "positives = 713\n",
      "percentage = 80.02244668911335 %\n"
     ]
    }
   ],
   "source": [
    "positive = 0\n",
    "for a,b in zip(y,x):\n",
    "    if prediction(b) == a:\n",
    "        positive += 1\n",
    "\n",
    "print(\"positives =\",positive)\n",
    "print(\"percentage =\", 100*positive/len(x),\"%\")"
   ]
  },
  {
   "cell_type": "code",
   "execution_count": 8,
   "id": "442220b7-fb6d-49fc-8cee-7acdc68febac",
   "metadata": {},
   "outputs": [],
   "source": [
    "p=[]\n",
    "t=[]\n",
    "with open(\"processed_test_data.csv\", \"r\") as file:\n",
    "    content = csv.reader(file)\n",
    "\n",
    "    next(content)\n",
    "    for line in content:\n",
    "        p.append(int(line[0]))#passengerID\n",
    "        x1 = int(line[1])     #Pclass\n",
    "        x2 = int(line[2])     #Sex\n",
    "        x3 = float(line[3])   #Age ---\n",
    "        x4 = int(line[4])     #Sibsp\n",
    "        x5 = int(line[5])     #Parch\n",
    "        x6 = float(line[6])     #Ticket ---\n",
    "        x7 = float(line[7])   #Fare ---\n",
    "        x8 = int(line[8])     #Embarked\n",
    "        # print(x1,x2,x3,x4,x5,x6,x7,x8)\n",
    "        t.append(np.array([x1,x2,x3,x4,x5,x6,x7,x8]))\n",
    "        \n",
    "output = [['PassengerId', 'Survived']]\n",
    "for i in range(len(p)):\n",
    "    z = t[i]\n",
    "    z[2] = (x[i][2]- mean[0])/(std[0])\n",
    "    z[5] = (x[i][5]- mean[1])/(std[1])\n",
    "    z[6] = (x[i][6]- mean[2])/(std[2])\n",
    "\n",
    "    output.append([p[i], prediction (z)])\n",
    "# print(output)"
   ]
  },
  {
   "cell_type": "code",
   "execution_count": 9,
   "id": "7bfdd2b9-70d7-4e6e-8653-e036db2f12d7",
   "metadata": {},
   "outputs": [],
   "source": [
    "with open(\"GDA_output.csv\", \"w\") as file:\n",
    "    writer = csv.writer(file)\n",
    "    writer.writerows(output)"
   ]
  },
  {
   "cell_type": "code",
   "execution_count": null,
   "id": "88f98119-be2c-4125-b722-6d405dee5f86",
   "metadata": {},
   "outputs": [],
   "source": []
  }
 ],
 "metadata": {
  "kernelspec": {
   "display_name": "Python 3 (ipykernel)",
   "language": "python",
   "name": "python3"
  },
  "language_info": {
   "codemirror_mode": {
    "name": "ipython",
    "version": 3
   },
   "file_extension": ".py",
   "mimetype": "text/x-python",
   "name": "python",
   "nbconvert_exporter": "python",
   "pygments_lexer": "ipython3",
   "version": "3.12.5"
  }
 },
 "nbformat": 4,
 "nbformat_minor": 5
}
