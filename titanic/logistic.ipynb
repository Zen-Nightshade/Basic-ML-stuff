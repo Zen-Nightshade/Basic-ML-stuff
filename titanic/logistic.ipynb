{
 "cells": [
  {
   "cell_type": "code",
   "execution_count": 1,
   "id": "23eace6a-a757-40b8-ab04-87b127071efe",
   "metadata": {},
   "outputs": [],
   "source": [
    "import csv\n",
    "import matplotlib.pyplot as plt\n",
    "import numpy as np\n",
    "import pandas as pd\n",
    "import random"
   ]
  },
  {
   "cell_type": "code",
   "execution_count": 2,
   "id": "74334a3d-393f-4880-be6e-fc795a427d97",
   "metadata": {},
   "outputs": [],
   "source": [
    "y=[]\n",
    "x=[]\n",
    "with open(\"processed_train_data.csv\", \"r\") as file:\n",
    "    content = csv.reader(file)\n",
    "\n",
    "    next(content)\n",
    "    for line in content:\n",
    "        y.append(int(line[1]))#survived\n",
    "        x1 = int(line[2])     #Pclass\n",
    "        x2 = int(line[3])     #Sex\n",
    "        x3 = float(line[4])   #Age ---\n",
    "        x4 = int(line[5])     #Sibsp\n",
    "        x5 = int(line[6])     #Parch\n",
    "        x6 = float(line[7])     #Ticket ---\n",
    "        x7 = float(line[8])   #Fare ---\n",
    "        x8 = int(line[9])     #Embarked\n",
    "        # print(x1,x2,x3,x4,x5,x6,x7,x8)\n",
    "        x.append(np.array([x1,x2,x3,x4,x5,x6,x7,x8]))\n",
    "        \n",
    "    # print(x)\n",
    "\n",
    "# for line in x:\n",
    "#     print(line)"
   ]
  },
  {
   "cell_type": "code",
   "execution_count": 3,
   "id": "a723ec69-1487-4b49-b420-0dc101d9dabd",
   "metadata": {},
   "outputs": [],
   "source": [
    "mean = np.zeros(3)\n",
    "variance = np. zeros(3)\n",
    "sum1=[0,0,0]\n",
    "sum2 =[0,0,0]\n",
    "\n",
    "for i in range(len(y)):\n",
    "    sum1[0] += x[i][2]\n",
    "    sum1[1] += x[i][5]\n",
    "    sum1[2] += x[i][6]\n",
    "\n",
    "    sum2[0] += x[i][2]**2\n",
    "    sum2[1] += x[i][5]**2\n",
    "    sum2[2] += x[i][6]**2\n",
    "\n",
    "mean[0] = sum1[0] / len(y)\n",
    "mean[1] = sum1[1] / len(y)\n",
    "mean[2] = sum1[2] / len(y)\n",
    "\n",
    "sum2[0] /= len(y)\n",
    "sum2[1] /= len(y)\n",
    "sum2[2] /= len(y)\n",
    "for i in range(3):\n",
    "    variance[i] = sum2[i] - mean[i]**2\n",
    "    \n",
    "count = [(2,0),(5,1),(6,2)]\n",
    "\n",
    "for i in range(len(y)):\n",
    "    for j,k in count:\n",
    "        x[i][j] -= mean[k]\n",
    "    for j,k in count:\n",
    "        x[i][j] /= variance[k]**(0.5)\n",
    "\n",
    "# for line in x:\n",
    "#     print(line.tolist())"
   ]
  },
  {
   "cell_type": "code",
   "execution_count": 4,
   "id": "5772513a-b6b3-4805-88d5-d243a4ecd11f",
   "metadata": {},
   "outputs": [
    {
     "data": {
      "image/png": "[encoded data removed]",
      "text/plain": [
       "<Figure size 640x480 with 1 Axes>"
      ]
     },
     "metadata": {},
     "output_type": "display_data"
    }
   ],
   "source": [
    "alpha=0.005\n",
    "beta=5000\n",
    "\n",
    "theta = np.ones(8)\n",
    "positive=[]\n",
    "def g(x):\n",
    "    seoul = theta @ x\n",
    "    return seoul\n",
    "def h(x):\n",
    "    return 1 / (1 + np.exp(-np.clip(g(x), -500, 500)))\n",
    "# print(g(x[0]))\n",
    "for _ in range(beta):\n",
    "    factor = np.zeros(8)\n",
    "    for i in range(len(y)):\n",
    "        for j in range(8):\n",
    "            factor[j] += alpha*(y[i]- h(x[i]))*x[i][j]\n",
    "    sum1=0\n",
    "    for j in range(8):\n",
    "        theta[j] += alpha*factor[j]\n",
    "    for i in range(len(x)):\n",
    "        z=x[i]\n",
    "        if abs(h(z) - y[i])< 0.5:\n",
    "            sum1 += 1 \n",
    "    positive.append(sum1)\n",
    "    # print(theta)\n",
    "# print(cost)\n",
    "plt.plot(positive)\n",
    "plt.show()"
   ]
  },
  {
   "cell_type": "code",
   "execution_count": 5,
   "id": "b15b1f3c-e838-4e99-ad27-ba7628da8fed",
   "metadata": {},
   "outputs": [
    {
     "name": "stdout",
     "output_type": "stream",
     "text": [
      "positives = 696\n",
      "percentage = 78.11447811447812 %\n"
     ]
    }
   ],
   "source": [
    "print(\"positives =\",positive[-1])\n",
    "print(\"percentage =\", 100*positive[-1]/len(x),\"%\")\n",
    "print(theta)"
   ]
  },
  {
   "cell_type": "code",
   "execution_count": 6,
   "id": "337c4f62-662e-438c-af38-4d43441b7e80",
   "metadata": {},
   "outputs": [],
   "source": [
    "p=[]\n",
    "t=[]\n",
    "with open(\"processed_test_data.csv\", \"r\") as file:\n",
    "    content = csv.reader(file)\n",
    "\n",
    "    next(content)\n",
    "    for line in content:\n",
    "        p.append(int(line[0]))#passengerID\n",
    "        x1 = int(line[1])     #Pclass\n",
    "        x2 = int(line[2])     #Sex\n",
    "        x3 = float(line[3])   #Age ---\n",
    "        x4 = int(line[4])     #Sibsp\n",
    "        x5 = int(line[5])     #Parch\n",
    "        x6 = float(line[6])     #Ticket ---\n",
    "        x7 = float(line[7])   #Fare ---\n",
    "        x8 = int(line[8])     #Embarked\n",
    "        # print(x1,x2,x3,x4,x5,x6,x7,x8)\n",
    "        t.append(np.array([x1,x2,x3,x4,x5,x6,x7,x8]))\n",
    "        \n",
    "output = [['PassengerId', 'Survived']]\n",
    "for i in range(len(p)):\n",
    "    z = t[i]\n",
    "    z[2] = (x[i][2]- mean[0])/(variance[0]**(0.5))\n",
    "    z[5] = (x[i][5]- mean[1])/(variance[1]**(0.5))\n",
    "    z[6] = (x[i][6]- mean[2])/(variance[2]**(0.5))\n",
    "\n",
    "    if h(z) > 0.5 :\n",
    "        output.append([p[i],1])\n",
    "    else:\n",
    "        output.append([p[i],0])\n",
    "\n",
    "# print(p)"
   ]
  },
  {
   "cell_type": "code",
   "execution_count": 7,
   "id": "f94e6534-ca14-4b19-82ea-73ef69c6f338",
   "metadata": {},
   "outputs": [],
   "source": [
    "with open(\"logistic_output.csv\", \"w\") as file:\n",
    "    writer = csv.writer(file)\n",
    "    writer.writerows(output)"
   ]
  },
  {
   "cell_type": "code",
   "execution_count": null,
   "id": "711034f7-284a-4873-9a49-3942d87a6e57",
   "metadata": {},
   "outputs": [],
   "source": []
  }
 ],
 "metadata": {
  "kernelspec": {
   "display_name": "Python 3 (ipykernel)",
   "language": "python",
   "name": "python3"
  },
  "language_info": {
   "codemirror_mode": {
    "name": "ipython",
    "version": 3
   },
   "file_extension": ".py",
   "mimetype": "text/x-python",
   "name": "python",
   "nbconvert_exporter": "python",
   "pygments_lexer": "ipython3",
   "version": "3.12.5"
  }
 },
 "nbformat": 4,
 "nbformat_minor": 5
}
